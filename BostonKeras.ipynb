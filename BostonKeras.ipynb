{
  "nbformat": 4,
  "nbformat_minor": 0,
  "metadata": {
    "colab": {
      "provenance": []
    },
    "kernelspec": {
      "name": "python3",
      "display_name": "Python 3"
    },
    "language_info": {
      "name": "python"
    }
  },
  "cells": [
    {
      "cell_type": "code",
      "execution_count": null,
      "metadata": {
        "id": "1s3LXiqoUchC"
      },
      "outputs": [],
      "source": [
        "import tensorflow as tf\n",
        "from tensorflow.keras.datasets import boston_housing\n",
        "from sklearn import preprocessing\n"
      ]
    },
    {
      "cell_type": "code",
      "source": [
        "(x_train, y_train), (x_test, y_test) = boston_housing.load_data()"
      ],
      "metadata": {
        "colab": {
          "base_uri": "https://localhost:8080/"
        },
        "id": "akVkOS76UhNf",
        "outputId": "bb2af7e9-78c3-4b94-849d-6b9ad86cba87"
      },
      "execution_count": null,
      "outputs": [
        {
          "output_type": "stream",
          "name": "stdout",
          "text": [
            "Downloading data from https://storage.googleapis.com/tensorflow/tf-keras-datasets/boston_housing.npz\n",
            "57026/57026 [==============================] - 0s 0us/step\n"
          ]
        }
      ]
    },
    {
      "cell_type": "code",
      "source": [
        "print(\"x_train Shape:\",x_train.shape)\n",
        "print(\"y_train Shape:\",y_train.shape)\n",
        "print(\"x_test Shape:\",x_test.shape)\n",
        "print(\"y_test Shape:\",y_test.shape)"
      ],
      "metadata": {
        "colab": {
          "base_uri": "https://localhost:8080/"
        },
        "id": "TjGj82W-UnL-",
        "outputId": "5e7b6c60-8a07-437e-e4d1-d9ec4f22fe42"
      },
      "execution_count": null,
      "outputs": [
        {
          "output_type": "stream",
          "name": "stdout",
          "text": [
            "x_train Shape: (404, 13)\n",
            "y_train Shape: (404,)\n",
            "x_test Shape: (102, 13)\n",
            "y_test Shape: (102,)\n"
          ]
        }
      ]
    },
    {
      "cell_type": "code",
      "source": [
        "x_train[0]"
      ],
      "metadata": {
        "colab": {
          "base_uri": "https://localhost:8080/"
        },
        "id": "wNibowbbUqR4",
        "outputId": "90af674c-8358-4e71-ec6c-7dd522855caa"
      },
      "execution_count": null,
      "outputs": [
        {
          "output_type": "execute_result",
          "data": {
            "text/plain": [
              "array([  1.23247,   0.     ,   8.14   ,   0.     ,   0.538  ,   6.142  ,\n",
              "        91.7    ,   3.9769 ,   4.     , 307.     ,  21.     , 396.9    ,\n",
              "        18.72   ])"
            ]
          },
          "metadata": {},
          "execution_count": 4
        }
      ]
    },
    {
      "cell_type": "code",
      "source": [
        "y_train[0]"
      ],
      "metadata": {
        "colab": {
          "base_uri": "https://localhost:8080/"
        },
        "id": "7PXm_c70Us5W",
        "outputId": "2aa701ea-3040-4e82-fadd-f2c25ccfa52b"
      },
      "execution_count": null,
      "outputs": [
        {
          "output_type": "execute_result",
          "data": {
            "text/plain": [
              "15.2"
            ]
          },
          "metadata": {},
          "execution_count": 5
        }
      ]
    },
    {
      "cell_type": "code",
      "source": [
        "x_train = preprocessing.normalize(x_train)\n",
        "x_test = preprocessing.normalize(x_test)"
      ],
      "metadata": {
        "id": "1GKHYZ9oUx9i"
      },
      "execution_count": null,
      "outputs": []
    },
    {
      "cell_type": "code",
      "source": [
        "x_train[0]"
      ],
      "metadata": {
        "colab": {
          "base_uri": "https://localhost:8080/"
        },
        "id": "QKlDzFy5U1Ju",
        "outputId": "687f54f4-041c-4072-97c7-aaff787b8ec9"
      },
      "execution_count": null,
      "outputs": [
        {
          "output_type": "execute_result",
          "data": {
            "text/plain": [
              "array([0.0024119 , 0.        , 0.01592969, 0.        , 0.00105285,\n",
              "       0.01201967, 0.17945359, 0.00778265, 0.00782786, 0.6007879 ,\n",
              "       0.04109624, 0.77671895, 0.03663436])"
            ]
          },
          "metadata": {},
          "execution_count": 7
        }
      ]
    },
    {
      "cell_type": "code",
      "source": [
        "from tensorflow.keras.models import Sequential\n",
        "from tensorflow.keras.layers import *"
      ],
      "metadata": {
        "id": "uN4YWFKXU47c"
      },
      "execution_count": null,
      "outputs": []
    },
    {
      "cell_type": "code",
      "source": [
        "model = Sequential();\n",
        "model.add(Dense(128,activation='relu',input_shape=(x_train[0].shape)))\n",
        "model.add(Dense(64,activation='relu'))\n",
        "model.add(Dense(32,activation='relu'))\n",
        "model.add(Dense(1))\n",
        "model.compile(optimizer='rmsprop',loss='mse',metrics=['mae'])"
      ],
      "metadata": {
        "id": "CsdLS3yUVGg4"
      },
      "execution_count": null,
      "outputs": []
    },
    {
      "cell_type": "code",
      "source": [
        "model.fit(x_train,y_train,epochs=100,verbose=1,validation_data=(x_test,y_test))\n"
      ],
      "metadata": {
        "colab": {
          "base_uri": "https://localhost:8080/"
        },
        "id": "yHuMVpZkVKrC",
        "outputId": "8c2e24db-a1a1-4cb7-f86d-d48c214db890"
      },
      "execution_count": null,
      "outputs": [
        {
          "output_type": "stream",
          "name": "stdout",
          "text": [
            "Epoch 1/100\n",
            "13/13 [==============================] - 1s 19ms/step - loss: 573.3809 - mae: 22.1097 - val_loss: 581.5635 - val_mae: 22.3217\n",
            "Epoch 2/100\n",
            "13/13 [==============================] - 0s 5ms/step - loss: 529.0848 - mae: 21.0827 - val_loss: 519.1063 - val_mae: 20.8722\n",
            "Epoch 3/100\n",
            "13/13 [==============================] - 0s 5ms/step - loss: 451.3555 - mae: 19.1381 - val_loss: 417.2831 - val_mae: 18.2679\n",
            "Epoch 4/100\n",
            "13/13 [==============================] - 0s 6ms/step - loss: 338.4186 - mae: 15.9572 - val_loss: 283.9093 - val_mae: 14.3659\n",
            "Epoch 5/100\n",
            "13/13 [==============================] - 0s 5ms/step - loss: 212.3585 - mae: 11.4959 - val_loss: 164.3065 - val_mae: 10.1851\n",
            "Epoch 6/100\n",
            "13/13 [==============================] - 0s 5ms/step - loss: 121.0824 - mae: 7.7518 - val_loss: 96.3219 - val_mae: 7.0454\n",
            "Epoch 7/100\n",
            "13/13 [==============================] - 0s 4ms/step - loss: 85.8507 - mae: 6.4202 - val_loss: 82.0391 - val_mae: 6.4790\n",
            "Epoch 8/100\n",
            "13/13 [==============================] - 0s 4ms/step - loss: 81.1723 - mae: 6.5467 - val_loss: 81.9236 - val_mae: 6.3762\n",
            "Epoch 9/100\n",
            "13/13 [==============================] - 0s 6ms/step - loss: 79.2934 - mae: 6.4075 - val_loss: 79.5483 - val_mae: 6.2817\n",
            "Epoch 10/100\n",
            "13/13 [==============================] - 0s 5ms/step - loss: 77.4182 - mae: 6.3084 - val_loss: 78.1195 - val_mae: 6.2024\n",
            "Epoch 11/100\n",
            "13/13 [==============================] - 0s 6ms/step - loss: 75.2141 - mae: 6.1412 - val_loss: 72.6672 - val_mae: 6.1341\n",
            "Epoch 12/100\n",
            "13/13 [==============================] - 0s 5ms/step - loss: 72.7984 - mae: 6.1210 - val_loss: 71.9414 - val_mae: 6.0096\n",
            "Epoch 13/100\n",
            "13/13 [==============================] - 0s 5ms/step - loss: 71.3333 - mae: 5.9355 - val_loss: 68.3716 - val_mae: 6.0596\n",
            "Epoch 14/100\n",
            "13/13 [==============================] - 0s 5ms/step - loss: 69.8198 - mae: 6.0351 - val_loss: 68.2266 - val_mae: 5.8824\n",
            "Epoch 15/100\n",
            "13/13 [==============================] - 0s 6ms/step - loss: 67.4258 - mae: 5.7195 - val_loss: 65.2296 - val_mae: 5.9088\n",
            "Epoch 16/100\n",
            "13/13 [==============================] - 0s 6ms/step - loss: 67.1904 - mae: 5.8113 - val_loss: 64.3491 - val_mae: 5.8149\n",
            "Epoch 17/100\n",
            "13/13 [==============================] - 0s 4ms/step - loss: 66.1061 - mae: 5.7170 - val_loss: 64.0222 - val_mae: 5.7603\n",
            "Epoch 18/100\n",
            "13/13 [==============================] - 0s 5ms/step - loss: 64.9815 - mae: 5.7199 - val_loss: 63.1830 - val_mae: 5.7258\n",
            "Epoch 19/100\n",
            "13/13 [==============================] - 0s 6ms/step - loss: 64.1912 - mae: 5.5316 - val_loss: 61.6531 - val_mae: 5.8202\n",
            "Epoch 20/100\n",
            "13/13 [==============================] - 0s 7ms/step - loss: 63.4877 - mae: 5.7109 - val_loss: 63.6679 - val_mae: 5.7128\n",
            "Epoch 21/100\n",
            "13/13 [==============================] - 0s 5ms/step - loss: 62.8789 - mae: 5.4904 - val_loss: 60.3146 - val_mae: 5.6528\n",
            "Epoch 22/100\n",
            "13/13 [==============================] - 0s 5ms/step - loss: 62.2376 - mae: 5.4237 - val_loss: 60.8200 - val_mae: 5.8947\n",
            "Epoch 23/100\n",
            "13/13 [==============================] - 0s 5ms/step - loss: 62.0459 - mae: 5.6773 - val_loss: 61.5511 - val_mae: 5.6559\n",
            "Epoch 24/100\n",
            "13/13 [==============================] - 0s 7ms/step - loss: 61.2079 - mae: 5.3816 - val_loss: 59.0667 - val_mae: 5.6072\n",
            "Epoch 25/100\n",
            "13/13 [==============================] - 0s 5ms/step - loss: 60.6659 - mae: 5.4208 - val_loss: 58.1925 - val_mae: 5.6490\n",
            "Epoch 26/100\n",
            "13/13 [==============================] - 0s 5ms/step - loss: 60.3559 - mae: 5.4329 - val_loss: 58.1807 - val_mae: 5.5920\n",
            "Epoch 27/100\n",
            "13/13 [==============================] - 0s 5ms/step - loss: 59.8140 - mae: 5.4331 - val_loss: 57.6726 - val_mae: 5.5894\n",
            "Epoch 28/100\n",
            "13/13 [==============================] - 0s 5ms/step - loss: 60.3621 - mae: 5.4123 - val_loss: 58.1679 - val_mae: 5.5748\n",
            "Epoch 29/100\n",
            "13/13 [==============================] - 0s 5ms/step - loss: 59.6267 - mae: 5.3908 - val_loss: 58.7232 - val_mae: 5.5764\n",
            "Epoch 30/100\n",
            "13/13 [==============================] - 0s 6ms/step - loss: 59.5705 - mae: 5.3453 - val_loss: 57.5503 - val_mae: 5.5612\n",
            "Epoch 31/100\n",
            "13/13 [==============================] - 0s 6ms/step - loss: 59.3308 - mae: 5.4080 - val_loss: 57.5515 - val_mae: 5.5577\n",
            "Epoch 32/100\n",
            "13/13 [==============================] - 0s 5ms/step - loss: 58.2000 - mae: 5.3221 - val_loss: 58.3448 - val_mae: 5.5617\n",
            "Epoch 33/100\n",
            "13/13 [==============================] - 0s 5ms/step - loss: 58.6306 - mae: 5.3015 - val_loss: 58.5424 - val_mae: 5.5620\n",
            "Epoch 34/100\n",
            "13/13 [==============================] - 0s 4ms/step - loss: 58.5984 - mae: 5.2684 - val_loss: 56.1122 - val_mae: 5.5465\n",
            "Epoch 35/100\n",
            "13/13 [==============================] - 0s 6ms/step - loss: 58.0686 - mae: 5.3002 - val_loss: 56.2689 - val_mae: 5.5298\n",
            "Epoch 36/100\n",
            "13/13 [==============================] - 0s 6ms/step - loss: 57.8157 - mae: 5.2162 - val_loss: 55.9058 - val_mae: 5.6113\n",
            "Epoch 37/100\n",
            "13/13 [==============================] - 0s 5ms/step - loss: 58.0560 - mae: 5.3716 - val_loss: 56.7517 - val_mae: 5.5213\n",
            "Epoch 38/100\n",
            "13/13 [==============================] - 0s 6ms/step - loss: 57.0720 - mae: 5.2333 - val_loss: 57.1076 - val_mae: 5.5187\n",
            "Epoch 39/100\n",
            "13/13 [==============================] - 0s 6ms/step - loss: 56.6736 - mae: 5.1911 - val_loss: 55.7163 - val_mae: 5.4983\n",
            "Epoch 40/100\n",
            "13/13 [==============================] - 0s 5ms/step - loss: 57.0156 - mae: 5.2580 - val_loss: 56.7278 - val_mae: 5.5008\n",
            "Epoch 41/100\n",
            "13/13 [==============================] - 0s 5ms/step - loss: 56.6117 - mae: 5.1721 - val_loss: 57.6828 - val_mae: 5.5134\n",
            "Epoch 42/100\n",
            "13/13 [==============================] - 0s 6ms/step - loss: 56.6951 - mae: 5.1374 - val_loss: 54.9278 - val_mae: 5.5015\n",
            "Epoch 43/100\n",
            "13/13 [==============================] - 0s 5ms/step - loss: 56.1695 - mae: 5.1992 - val_loss: 55.0263 - val_mae: 5.4755\n",
            "Epoch 44/100\n",
            "13/13 [==============================] - 0s 5ms/step - loss: 56.2518 - mae: 5.1900 - val_loss: 57.2295 - val_mae: 5.4905\n",
            "Epoch 45/100\n",
            "13/13 [==============================] - 0s 5ms/step - loss: 56.1214 - mae: 5.0807 - val_loss: 54.5594 - val_mae: 5.4899\n",
            "Epoch 46/100\n",
            "13/13 [==============================] - 0s 6ms/step - loss: 55.5763 - mae: 5.1399 - val_loss: 54.4780 - val_mae: 5.5048\n",
            "Epoch 47/100\n",
            "13/13 [==============================] - 0s 6ms/step - loss: 54.5718 - mae: 5.1987 - val_loss: 58.1938 - val_mae: 5.4994\n",
            "Epoch 48/100\n",
            "13/13 [==============================] - 0s 6ms/step - loss: 55.6810 - mae: 5.0180 - val_loss: 54.4860 - val_mae: 5.4358\n",
            "Epoch 49/100\n",
            "13/13 [==============================] - 0s 5ms/step - loss: 55.1992 - mae: 5.1098 - val_loss: 54.6333 - val_mae: 5.4202\n",
            "Epoch 50/100\n",
            "13/13 [==============================] - 0s 5ms/step - loss: 54.6195 - mae: 5.0354 - val_loss: 53.9876 - val_mae: 5.4289\n",
            "Epoch 51/100\n",
            "13/13 [==============================] - 0s 5ms/step - loss: 54.4376 - mae: 5.0491 - val_loss: 53.8346 - val_mae: 5.4598\n",
            "Epoch 52/100\n",
            "13/13 [==============================] - 0s 4ms/step - loss: 54.5895 - mae: 5.0401 - val_loss: 53.6669 - val_mae: 5.4486\n",
            "Epoch 53/100\n",
            "13/13 [==============================] - 0s 6ms/step - loss: 53.7949 - mae: 5.0829 - val_loss: 53.6480 - val_mae: 5.4659\n",
            "Epoch 54/100\n",
            "13/13 [==============================] - 0s 5ms/step - loss: 53.6337 - mae: 5.0681 - val_loss: 56.1001 - val_mae: 5.4096\n",
            "Epoch 55/100\n",
            "13/13 [==============================] - 0s 5ms/step - loss: 53.4523 - mae: 4.9718 - val_loss: 53.6079 - val_mae: 5.3692\n",
            "Epoch 56/100\n",
            "13/13 [==============================] - 0s 6ms/step - loss: 53.2965 - mae: 5.0433 - val_loss: 54.0311 - val_mae: 5.3530\n",
            "Epoch 57/100\n",
            "13/13 [==============================] - 0s 5ms/step - loss: 53.2839 - mae: 4.9189 - val_loss: 52.9198 - val_mae: 5.3687\n",
            "Epoch 58/100\n",
            "13/13 [==============================] - 0s 4ms/step - loss: 53.8084 - mae: 5.0779 - val_loss: 54.6870 - val_mae: 5.3504\n",
            "Epoch 59/100\n",
            "13/13 [==============================] - 0s 5ms/step - loss: 52.7347 - mae: 4.8668 - val_loss: 52.9095 - val_mae: 5.3326\n",
            "Epoch 60/100\n",
            "13/13 [==============================] - 0s 4ms/step - loss: 52.7332 - mae: 4.9979 - val_loss: 54.5306 - val_mae: 5.3336\n",
            "Epoch 61/100\n",
            "13/13 [==============================] - 0s 6ms/step - loss: 52.8269 - mae: 4.8798 - val_loss: 52.3604 - val_mae: 5.3515\n",
            "Epoch 62/100\n",
            "13/13 [==============================] - 0s 6ms/step - loss: 52.5176 - mae: 5.0062 - val_loss: 53.3032 - val_mae: 5.2915\n",
            "Epoch 63/100\n",
            "13/13 [==============================] - 0s 5ms/step - loss: 52.3227 - mae: 4.9208 - val_loss: 55.1213 - val_mae: 5.3289\n",
            "Epoch 64/100\n",
            "13/13 [==============================] - 0s 6ms/step - loss: 51.9215 - mae: 4.9126 - val_loss: 53.7060 - val_mae: 5.2862\n",
            "Epoch 65/100\n",
            "13/13 [==============================] - 0s 5ms/step - loss: 52.4659 - mae: 4.9075 - val_loss: 52.7596 - val_mae: 5.2583\n",
            "Epoch 66/100\n",
            "13/13 [==============================] - 0s 5ms/step - loss: 51.4000 - mae: 4.8224 - val_loss: 51.5032 - val_mae: 5.3006\n",
            "Epoch 67/100\n",
            "13/13 [==============================] - 0s 6ms/step - loss: 51.6692 - mae: 4.8873 - val_loss: 51.7064 - val_mae: 5.2404\n",
            "Epoch 68/100\n",
            "13/13 [==============================] - 0s 6ms/step - loss: 51.4203 - mae: 4.8847 - val_loss: 51.6027 - val_mae: 5.2283\n",
            "Epoch 69/100\n",
            "13/13 [==============================] - 0s 5ms/step - loss: 51.4396 - mae: 4.8389 - val_loss: 51.2242 - val_mae: 5.2227\n",
            "Epoch 70/100\n",
            "13/13 [==============================] - 0s 5ms/step - loss: 50.2621 - mae: 4.7569 - val_loss: 50.9261 - val_mae: 5.2171\n",
            "Epoch 71/100\n",
            "13/13 [==============================] - 0s 6ms/step - loss: 50.4980 - mae: 4.8165 - val_loss: 50.9534 - val_mae: 5.1927\n",
            "Epoch 72/100\n",
            "13/13 [==============================] - 0s 5ms/step - loss: 50.0249 - mae: 4.7193 - val_loss: 50.6932 - val_mae: 5.2894\n",
            "Epoch 73/100\n",
            "13/13 [==============================] - 0s 6ms/step - loss: 50.5027 - mae: 4.8139 - val_loss: 50.7648 - val_mae: 5.1600\n",
            "Epoch 74/100\n",
            "13/13 [==============================] - 0s 4ms/step - loss: 49.7250 - mae: 4.7376 - val_loss: 50.4223 - val_mae: 5.1474\n",
            "Epoch 75/100\n",
            "13/13 [==============================] - 0s 4ms/step - loss: 49.6428 - mae: 4.7576 - val_loss: 50.0164 - val_mae: 5.1385\n",
            "Epoch 76/100\n",
            "13/13 [==============================] - 0s 4ms/step - loss: 49.4906 - mae: 4.7576 - val_loss: 50.8596 - val_mae: 5.1206\n",
            "Epoch 77/100\n",
            "13/13 [==============================] - 0s 6ms/step - loss: 48.8982 - mae: 4.6611 - val_loss: 49.4613 - val_mae: 5.1161\n",
            "Epoch 78/100\n",
            "13/13 [==============================] - 0s 6ms/step - loss: 48.6252 - mae: 4.7030 - val_loss: 50.1773 - val_mae: 5.0863\n",
            "Epoch 79/100\n",
            "13/13 [==============================] - 0s 4ms/step - loss: 48.7171 - mae: 4.7013 - val_loss: 49.2948 - val_mae: 5.0749\n",
            "Epoch 80/100\n",
            "13/13 [==============================] - 0s 5ms/step - loss: 48.8430 - mae: 4.6740 - val_loss: 48.8779 - val_mae: 5.1417\n",
            "Epoch 81/100\n",
            "13/13 [==============================] - 0s 5ms/step - loss: 48.3711 - mae: 4.7300 - val_loss: 48.9011 - val_mae: 5.0448\n",
            "Epoch 82/100\n",
            "13/13 [==============================] - 0s 6ms/step - loss: 47.7926 - mae: 4.6058 - val_loss: 48.2722 - val_mae: 5.0552\n",
            "Epoch 83/100\n",
            "13/13 [==============================] - 0s 5ms/step - loss: 47.8160 - mae: 4.6312 - val_loss: 48.1036 - val_mae: 5.0730\n",
            "Epoch 84/100\n",
            "13/13 [==============================] - 0s 5ms/step - loss: 46.7235 - mae: 4.6326 - val_loss: 48.5510 - val_mae: 4.9954\n",
            "Epoch 85/100\n",
            "13/13 [==============================] - 0s 4ms/step - loss: 46.5051 - mae: 4.5862 - val_loss: 51.9217 - val_mae: 5.0969\n",
            "Epoch 86/100\n",
            "13/13 [==============================] - 0s 6ms/step - loss: 46.5955 - mae: 4.5224 - val_loss: 47.4431 - val_mae: 4.9664\n",
            "Epoch 87/100\n",
            "13/13 [==============================] - 0s 5ms/step - loss: 46.9082 - mae: 4.5859 - val_loss: 49.1536 - val_mae: 4.9735\n",
            "Epoch 88/100\n",
            "13/13 [==============================] - 0s 5ms/step - loss: 45.6806 - mae: 4.6175 - val_loss: 46.8229 - val_mae: 4.9305\n",
            "Epoch 89/100\n",
            "13/13 [==============================] - 0s 5ms/step - loss: 45.5137 - mae: 4.5092 - val_loss: 46.8178 - val_mae: 4.8950\n",
            "Epoch 90/100\n",
            "13/13 [==============================] - 0s 5ms/step - loss: 46.0140 - mae: 4.5305 - val_loss: 47.5523 - val_mae: 4.8881\n",
            "Epoch 91/100\n",
            "13/13 [==============================] - 0s 6ms/step - loss: 45.0265 - mae: 4.4212 - val_loss: 46.4195 - val_mae: 4.8534\n",
            "Epoch 92/100\n",
            "13/13 [==============================] - 0s 7ms/step - loss: 45.9814 - mae: 4.6491 - val_loss: 46.7875 - val_mae: 4.8439\n",
            "Epoch 93/100\n",
            "13/13 [==============================] - 0s 6ms/step - loss: 45.0172 - mae: 4.4196 - val_loss: 46.6023 - val_mae: 4.8294\n",
            "Epoch 94/100\n",
            "13/13 [==============================] - 0s 5ms/step - loss: 44.3023 - mae: 4.4193 - val_loss: 49.5632 - val_mae: 4.9560\n",
            "Epoch 95/100\n",
            "13/13 [==============================] - 0s 6ms/step - loss: 44.8213 - mae: 4.4398 - val_loss: 49.4288 - val_mae: 4.9462\n",
            "Epoch 96/100\n",
            "13/13 [==============================] - 0s 6ms/step - loss: 44.1930 - mae: 4.3660 - val_loss: 44.4688 - val_mae: 4.7624\n",
            "Epoch 97/100\n",
            "13/13 [==============================] - 0s 6ms/step - loss: 43.8056 - mae: 4.4235 - val_loss: 44.1246 - val_mae: 4.8011\n",
            "Epoch 98/100\n",
            "13/13 [==============================] - 0s 6ms/step - loss: 43.6088 - mae: 4.3892 - val_loss: 43.8745 - val_mae: 4.7940\n",
            "Epoch 99/100\n",
            "13/13 [==============================] - 0s 5ms/step - loss: 42.4316 - mae: 4.3380 - val_loss: 44.4496 - val_mae: 4.6901\n",
            "Epoch 100/100\n",
            "13/13 [==============================] - 0s 5ms/step - loss: 41.6988 - mae: 4.2720 - val_loss: 46.8071 - val_mae: 5.2334\n"
          ]
        },
        {
          "output_type": "execute_result",
          "data": {
            "text/plain": [
              "<keras.callbacks.History at 0x7f285913bf10>"
            ]
          },
          "metadata": {},
          "execution_count": 10
        }
      ]
    },
    {
      "cell_type": "code",
      "source": [
        "model.predict(x_test)"
      ],
      "metadata": {
        "colab": {
          "base_uri": "https://localhost:8080/"
        },
        "id": "sRh40K4oVRBO",
        "outputId": "93588b8f-72ac-4cc8-878a-8f0424bafe96"
      },
      "execution_count": null,
      "outputs": [
        {
          "output_type": "stream",
          "name": "stdout",
          "text": [
            "4/4 [==============================] - 0s 3ms/step\n"
          ]
        },
        {
          "output_type": "execute_result",
          "data": {
            "text/plain": [
              "array([[12.133153],\n",
              "       [23.336086],\n",
              "       [27.500164],\n",
              "       [25.70131 ],\n",
              "       [28.178825],\n",
              "       [23.810545],\n",
              "       [32.254414],\n",
              "       [30.179451],\n",
              "       [22.765556],\n",
              "       [21.734486],\n",
              "       [17.209223],\n",
              "       [25.022812],\n",
              "       [21.371279],\n",
              "       [31.383545],\n",
              "       [18.776468],\n",
              "       [27.873613],\n",
              "       [26.057217],\n",
              "       [24.418259],\n",
              "       [21.257975],\n",
              "       [22.557041],\n",
              "       [16.777012],\n",
              "       [14.969731],\n",
              "       [26.1526  ],\n",
              "       [24.685696],\n",
              "       [32.996475],\n",
              "       [22.257984],\n",
              "       [27.734886],\n",
              "       [39.43749 ],\n",
              "       [14.362605],\n",
              "       [26.95593 ],\n",
              "       [24.427734],\n",
              "       [15.501506],\n",
              "       [33.73504 ],\n",
              "       [25.492573],\n",
              "       [20.170927],\n",
              "       [14.929079],\n",
              "       [19.452938],\n",
              "       [18.994165],\n",
              "       [20.632286],\n",
              "       [35.945557],\n",
              "       [30.44664 ],\n",
              "       [28.118717],\n",
              "       [20.404343],\n",
              "       [28.77046 ],\n",
              "       [31.370136],\n",
              "       [27.131422],\n",
              "       [32.639145],\n",
              "       [24.004467],\n",
              "       [22.689255],\n",
              "       [26.415556],\n",
              "       [38.70103 ],\n",
              "       [23.403582],\n",
              "       [18.039015],\n",
              "       [22.658567],\n",
              "       [31.268906],\n",
              "       [28.98036 ],\n",
              "       [19.29408 ],\n",
              "       [31.6389  ],\n",
              "       [34.235603],\n",
              "       [27.962082],\n",
              "       [21.904465],\n",
              "       [20.720158],\n",
              "       [16.321686],\n",
              "       [24.491505],\n",
              "       [28.0101  ],\n",
              "       [34.336796],\n",
              "       [18.471584],\n",
              "       [32.630306],\n",
              "       [15.859343],\n",
              "       [16.185833],\n",
              "       [22.324686],\n",
              "       [29.620018],\n",
              "       [22.238455],\n",
              "       [17.314583],\n",
              "       [29.413326],\n",
              "       [26.731955],\n",
              "       [26.915997],\n",
              "       [26.124413],\n",
              "       [32.67235 ],\n",
              "       [15.924715],\n",
              "       [26.10351 ],\n",
              "       [32.019287],\n",
              "       [26.869574],\n",
              "       [19.99068 ],\n",
              "       [25.940388],\n",
              "       [24.614208],\n",
              "       [20.676414],\n",
              "       [24.171589],\n",
              "       [26.592701],\n",
              "       [23.426424],\n",
              "       [23.717098],\n",
              "       [29.942717],\n",
              "       [29.200603],\n",
              "       [30.006256],\n",
              "       [32.579803],\n",
              "       [23.03677 ],\n",
              "       [31.853601],\n",
              "       [23.909828],\n",
              "       [25.06026 ],\n",
              "       [28.35308 ],\n",
              "       [28.153194],\n",
              "       [20.490286]], dtype=float32)"
            ]
          },
          "metadata": {},
          "execution_count": 11
        }
      ]
    },
    {
      "cell_type": "code",
      "source": [
        "y_test"
      ],
      "metadata": {
        "colab": {
          "base_uri": "https://localhost:8080/"
        },
        "id": "DPK5rCWVVUE_",
        "outputId": "a97cde87-a3b2-42b3-c8c0-6c7a21a85f22"
      },
      "execution_count": null,
      "outputs": [
        {
          "output_type": "execute_result",
          "data": {
            "text/plain": [
              "array([ 7.2, 18.8, 19. , 27. , 22.2, 24.5, 31.2, 22.9, 20.5, 23.2, 18.6,\n",
              "       14.5, 17.8, 50. , 20.8, 24.3, 24.2, 19.8, 19.1, 22.7, 12. , 10.2,\n",
              "       20. , 18.5, 20.9, 23. , 27.5, 30.1,  9.5, 22. , 21.2, 14.1, 33.1,\n",
              "       23.4, 20.1,  7.4, 15.4, 23.8, 20.1, 24.5, 33. , 28.4, 14.1, 46.7,\n",
              "       32.5, 29.6, 28.4, 19.8, 20.2, 25. , 35.4, 20.3,  9.7, 14.5, 34.9,\n",
              "       26.6,  7.2, 50. , 32.4, 21.6, 29.8, 13.1, 27.5, 21.2, 23.1, 21.9,\n",
              "       13. , 23.2,  8.1,  5.6, 21.7, 29.6, 19.6,  7. , 26.4, 18.9, 20.9,\n",
              "       28.1, 35.4, 10.2, 24.3, 43.1, 17.6, 15.4, 16.2, 27.1, 21.4, 21.5,\n",
              "       22.4, 25. , 16.6, 18.6, 22. , 42.8, 35.1, 21.5, 36. , 21.9, 24.1,\n",
              "       50. , 26.7, 25. ])"
            ]
          },
          "metadata": {},
          "execution_count": 12
        }
      ]
    },
    {
      "cell_type": "code",
      "source": [
        "x_test[10]"
      ],
      "metadata": {
        "colab": {
          "base_uri": "https://localhost:8080/"
        },
        "id": "n50LNZHeVZ0x",
        "outputId": "7deccae0-9d72-4c92-cfb6-cafffab37317"
      },
      "execution_count": null,
      "outputs": [
        {
          "output_type": "execute_result",
          "data": {
            "text/plain": [
              "array([5.71082159e-04, 0.00000000e+00, 2.13693971e-02, 0.00000000e+00,\n",
              "       1.29814095e-03, 1.59896015e-02, 2.13194686e-01, 6.77704466e-03,\n",
              "       1.24821245e-02, 9.58627160e-01, 5.21752803e-02, 1.76746883e-01,\n",
              "       2.65369966e-02])"
            ]
          },
          "metadata": {},
          "execution_count": 13
        }
      ]
    },
    {
      "cell_type": "code",
      "source": [
        "y_test[10]\n"
      ],
      "metadata": {
        "colab": {
          "base_uri": "https://localhost:8080/"
        },
        "id": "JkR8JTVJVdTj",
        "outputId": "5f0351ea-435f-4cf3-c947-06523dcf92b0"
      },
      "execution_count": null,
      "outputs": [
        {
          "output_type": "execute_result",
          "data": {
            "text/plain": [
              "18.6"
            ]
          },
          "metadata": {},
          "execution_count": 14
        }
      ]
    },
    {
      "cell_type": "code",
      "source": [
        "model.predict([[5.71082159e-04, 0.00000000e+00, 2.13693971e-02, 0.00000000e+00,\n",
        "       1.29814095e-03, 1.59896015e-02, 2.13194686e-01, 6.77704466e-03,\n",
        "       1.24821245e-02, 9.58627160e-01, 5.21752803e-02, 1.76746883e-01,\n",
        "       2.65369966e-02]])"
      ],
      "metadata": {
        "colab": {
          "base_uri": "https://localhost:8080/"
        },
        "id": "CovvDiN6Vh76",
        "outputId": "aa4b4514-a559-47e3-aabe-7f846275dee1"
      },
      "execution_count": null,
      "outputs": [
        {
          "output_type": "stream",
          "name": "stdout",
          "text": [
            "1/1 [==============================] - 0s 36ms/step\n"
          ]
        },
        {
          "output_type": "execute_result",
          "data": {
            "text/plain": [
              "array([[17.209225]], dtype=float32)"
            ]
          },
          "metadata": {},
          "execution_count": 15
        }
      ]
    }
  ]
}